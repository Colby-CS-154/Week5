{
 "cells": [
  {
   "cell_type": "markdown",
   "metadata": {},
   "source": [
    "## REVIEW\n",
    "\n",
    "* What are data types?\n",
    "* What are the built-in data structures?\n",
    "* What are conditionals and how do we use them\n",
    "* How to do something again and again?"
   ]
  },
  {
   "cell_type": "markdown",
   "metadata": {},
   "source": [
    "## Situation\n",
    "\n",
    "* Remember the case of validating user input? Let's try to write those conditions (See `chatbot.py`)\n",
    "* Also look into the git history for this repo to see how `chatbot`.py was developed\n"
   ]
  },
  {
   "cell_type": "markdown",
   "metadata": {},
   "source": [
    "#### Creating a function\n",
    "\n",
    "A function can be thought of in two different analogies - as a recipe and a black box.\n",
    "\n",
    "When you are writing the function think of it as a recipe - which has ingredients and a series of steps\n",
    "Once you define this recipe, you can use it wherever you want. \n",
    "\n",
    "When you are using the function, think of it as a black box that takes in specific inputs and gives you specific output.\n",
    "\n",
    "We will see later how these two analogies helps us create levels of abstraction and breakdown problem\n",
    "\n",
    "\n",
    "Following is the syntax to create a function\n",
    "\n",
    "```python\n",
    "def name_of_function(param_1: type, param_2: type, ...., param_n: type) -> type:\n",
    "    # Computation here\n",
    "    return \n",
    "```\n",
    "\n",
    "\n",
    "There can `n` number of parameters. The `return` keyword has two meaning in the context of functions:\n",
    "\n",
    "1. Return a variable/value\n",
    "2. Return to the code that you were executing. We will look at the meaning in the second context soon.\n"
   ]
  },
  {
   "cell_type": "code",
   "execution_count": 20,
   "metadata": {},
   "outputs": [
    {
     "name": "stdout",
     "output_type": "stream",
     "text": [
      "The first number is 3, second number is 8\n"
     ]
    },
    {
     "data": {
      "text/plain": [
       "11"
      ]
     },
     "execution_count": 20,
     "metadata": {},
     "output_type": "execute_result"
    }
   ],
   "source": [
    "#  A function to add two numbers. Note the type annotation of the parameters and the return type\n",
    "def add_two_numbers(first_number: int, second_number: int) -> int:\n",
    "    print(f\"The first number is {first_number}, second number is {second_number}\")\n",
    "    return first_number + second_number\n",
    "\n",
    "add_two_numbers(3, 8)"
   ]
  },
  {
   "cell_type": "code",
   "execution_count": 7,
   "metadata": {},
   "outputs": [],
   "source": [
    "# When you do not have the return keyword, the difference is not returned.\n",
    "def subtract_two_numbers(first_number: int, second_number: int):\n",
    "    first_number - second_number\n",
    "\n",
    "# While this code will run without errors, the type of resultant_sum will be `None`\n",
    "resultant_sum = subtract_two_numbers(10, 5)\n"
   ]
  },
  {
   "cell_type": "code",
   "execution_count": 8,
   "metadata": {},
   "outputs": [
    {
     "name": "stdout",
     "output_type": "stream",
     "text": [
      "None\n"
     ]
    }
   ],
   "source": [
    "print(resultant_sum)"
   ]
  },
  {
   "cell_type": "code",
   "execution_count": 21,
   "metadata": {},
   "outputs": [
    {
     "name": "stdout",
     "output_type": "stream",
     "text": [
      "Hello world\n",
      "None\n"
     ]
    }
   ],
   "source": [
    "# print function also does not return anything\n",
    "print_response = print(f\"Hello world\")\n",
    "print(print_response)"
   ]
  },
  {
   "cell_type": "code",
   "execution_count": 9,
   "metadata": {},
   "outputs": [
    {
     "name": "stdout",
     "output_type": "stream",
     "text": [
      "{'a': 4, 'b': 5, 'd': 6, 'e': 1}\n"
     ]
    }
   ],
   "source": [
    "some_list_of_numbers: list[int] = [4, 5, 6, 1]\n",
    "another_list_of_letters: list[str] = [\"a\", \"b\", \"d\", \"e\"]\n",
    "new_dict = {}\n",
    "\n",
    "for each_num, each_char in zip(some_list_of_numbers, another_list_of_letters):\n",
    "    new_dict[each_char] = each_num\n",
    "\n",
    "print(new_dict)"
   ]
  },
  {
   "cell_type": "code",
   "execution_count": 13,
   "metadata": {},
   "outputs": [
    {
     "name": "stdout",
     "output_type": "stream",
     "text": [
      "True\n"
     ]
    }
   ],
   "source": [
    "some_list: list[int] = True\n",
    "print(some_list)"
   ]
  },
  {
   "cell_type": "code",
   "execution_count": 22,
   "metadata": {},
   "outputs": [
    {
     "name": "stdout",
     "output_type": "stream",
     "text": [
      "1\n",
      "2\n",
      "3\n",
      "{'a': 1, 'e': 2, 'c': 3}\n"
     ]
    }
   ],
   "source": [
    "# Our functions can not only take parameters of primitive data type but it can also take data structures\n",
    "\n",
    "def create_dict_from_lists(list_of_keys: list[str], list_of_values: list[int]) -> dict[str, int]:\n",
    "    new_dict = {}\n",
    "    for each_key, each_value in zip(list_of_keys, list_of_values):\n",
    "        new_dict[each_key] = each_value\n",
    "\n",
    "    for each_key, each_value in zip(list_of_keys, list_of_values):\n",
    "        print(each_value)\n",
    "    \n",
    "    return new_dict\n",
    "    \n",
    "\n",
    "some_other_dictionary = create_dict_from_lists(['a', 'e', 'c'], [1, 2, 3])\n",
    "print(some_other_dictionary)"
   ]
  },
  {
   "cell_type": "code",
   "execution_count": 18,
   "metadata": {},
   "outputs": [
    {
     "data": {
      "text/plain": [
       "{'Texas': 1, 'Maine': 2, 'Florida': 0}"
      ]
     },
     "execution_count": 18,
     "metadata": {},
     "output_type": "execute_result"
    }
   ],
   "source": [
    "create_dict_from_lists(['Texas', 'Maine', 'Florida'], [1, 2, 0])"
   ]
  }
 ],
 "metadata": {
  "kernelspec": {
   "display_name": "colby",
   "language": "python",
   "name": "python3"
  },
  "language_info": {
   "codemirror_mode": {
    "name": "ipython",
    "version": 3
   },
   "file_extension": ".py",
   "mimetype": "text/x-python",
   "name": "python",
   "nbconvert_exporter": "python",
   "pygments_lexer": "ipython3",
   "version": "3.11.9"
  }
 },
 "nbformat": 4,
 "nbformat_minor": 2
}
