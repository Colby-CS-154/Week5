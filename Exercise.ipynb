{
 "cells": [
  {
   "cell_type": "markdown",
   "metadata": {},
   "source": [
    "# Exercises\n",
    "\n",
    "Following questions will help you work with the built-in data structures of Python - `lists`, `sets`, `tuples`, and `dictionaries`.\n",
    "\n",
    "These exercises are designed to help you practice basic operations of these data structures while using other concepts such as conditionals, loops, and functions!\n",
    "\n",
    "Work on these exercises to the best of your ability. After you have struggled for at least 30 minutes and still cannot work on it, look at the accompanied solutions notebook."
   ]
  },
  {
   "cell_type": "markdown",
   "metadata": {},
   "source": [
    "## `list`\n",
    "\n",
    "You are creating a program to manage your personal movie watchlist.\n",
    "\n",
    "#### Part A: Simple operations\n",
    "* Create: Initialize a list called `watchlist` with the following movies: \"Inception\", \"The Matrix\", \"Interstellar\".\n",
    "* Read: Print the total number of movies in your watchlist.\n",
    "* Update: Replace \"The Matrix\" with \"The Matrix Reloaded\".\n",
    "* Delete: Remove \"Inception\" from the watchlist.\n",
    "\n",
    "#### Part B: Using Conditionals\n",
    "\n",
    "* Check if \"The Godfather\" is in your `watchlist`. If not, add it.\n",
    "* Create a function `add_to_list`, that takes in a `movie` and a list of movies. If the `movie` is not in the list add it.\n",
    "\n",
    "#### Part C: Using Loops\n",
    "\n",
    "* Print each movie in your watchlist with its corresponding position in the list (starting from 1).\n",
    "* Create a function `print_movie_list` that takes in a list of movies and prints the movie and its position (starting from 1). (Hint: Use `enumerate` or `range`)\n",
    "\n",
    "\n",
    "#### Part D: Using Loops and Conditionals\n",
    "\n",
    "* You have a list of recommended movies: `recommended_movies` = [\"Inception\", \"The Dark Knight\", \"Interstellar\"]. Add each recommended movie to your watchlist only if it's not already present.\n",
    "* Create a function called `extend_my_watchlist` that takes in two lists of movie. It adds the movies from the second list to the first list if they are already not in the first list. Can you think of a way to use `add_to_list` function in `extend_my_watchlist`?"
   ]
  },
  {
   "cell_type": "markdown",
   "metadata": {},
   "source": [
    "## `set`"
   ]
  },
  {
   "cell_type": "markdown",
   "metadata": {},
   "source": [
    "You are managing your personal movie collection and want to ensure there are no duplicate movies. You also want to compare your collection with your friend's collection.\n",
    "\n",
    "#### Part A: Simple Operations\n",
    "\n",
    "\n",
    "* Create: \n",
    "    * Initialize a set called my_movies with the following movies: \"Inception\", \"The Matrix\", \"Interstellar\".\n",
    "    * Initialize another set called friend_movies with movies: \"The Matrix\", \"Avatar\", \"Titanic\".\n",
    "* Read:\n",
    "    * Print all movies in your collection.\n",
    "* Update:\n",
    "    * Add the movie \"The Dark Knight\" to your my_movies set.\n",
    "* Delete:\n",
    "    * Remove \"Inception\" from your my_movies set.\n",
    "\n",
    "#### Part B: Using Set Operations\n",
    "\n",
    "\n",
    "* Create a set `all_movies` that contains all unique movies from both your collection and your friend's collection.\n",
    "* Create a set `common_movies` that contains movies that are in both your collection and your friend's collection.\n",
    "* Create a set `unique_my_movies` that contains movies that are only in your collection.\n",
    "* Create a set `unique_friend_movies` that contains movies that are only in your friend's collection.\n",
    "* Create a set exclusive_movies that contains movies that are in either your collection or your friend's collection but not in both.\n",
    "\n",
    "#### Part C: Using Loops and Set Operations\n",
    "\n",
    "* For each movie in `all_movies`, print whether:\n",
    "    * It is only in your collection.\n",
    "    * It is only in your friend's collection.\n",
    "    * You both have it in your collections.\n",
    "\n",
    "#### Part D: Advanced Set Operations\n",
    "\n",
    "Suppose you have a set `watched_movies` = {\"Interstellar\", \"Avatar\"}. Remove these movies from your `my_movies` set as you've already watched them.\n",
    "After updating, recompute `all_movies`, `common_movies`, `unique_my_movies`, `unique_friend_movies`, and `exclusive_movies`.\n",
    "\n",
    "#### Part E: Comparing Lists and Sets\n",
    "\n",
    "* Create a list called `my_movies_list` with the same movies as `my_movies`.\n",
    "* Try adding \"Inception\" again to both `my_movies_list` and `my_movies`. Observe the difference.\n"
   ]
  },
  {
   "cell_type": "markdown",
   "metadata": {},
   "source": [
    "## `tuple`"
   ]
  },
  {
   "cell_type": "markdown",
   "metadata": {
    "vscode": {
     "languageId": "plaintext"
    }
   },
   "source": [
    "You are collecting temperature sensor data that should remain unaltered once recorded.\n",
    "\n",
    "#### Part A: Simple Operations\n",
    "\n",
    "* Create: Define a tuple `sensor_readings` with values: 23.5, 24.0, 22.8.\n",
    "* Read: Access the first temperature reading.\n",
    "* Update: Since tuples are immutable, create a new tuple updated_readings by replacing the second reading with 24.2.\n",
    "* Delete: Try deleting the first `sensor_readings`. What happens when you try? Why does or does not work?\n",
    "\n",
    "#### Part B: Using Conditionals\n",
    "\n",
    "* Check if any reading in updated_readings is above 24.0. Print a warning message if so.\n",
    "\n",
    "#### Part C: Using Loops\n",
    "\n",
    "* Calculate and print the average of the temperature readings in updated_readings.\n",
    "\n",
    "#### Part D: Using Loops and Conditionals\n",
    "\n",
    "* Exercise: For each reading in `updated_readings`, print \"Normal\" if the reading is between 22.0 and 24.0, otherwise print \"Alert\""
   ]
  },
  {
   "cell_type": "markdown",
   "metadata": {},
   "source": [
    "## `dictionary`"
   ]
  },
  {
   "cell_type": "markdown",
   "metadata": {},
   "source": [
    "You are developing a system to track student grades.\n",
    "\n",
    "#### Part A: Simple Operations\n",
    "\n",
    "* Create: Initialize a dictionary `student_grades` with the following key-value pairs: \"Alice\": 85, \"Bob\": 90, \"Charlie\": 78.\n",
    "* Read: Retrieve and print Bob's grade.\n",
    "* Update: Change Charlie's grade to 82.\n",
    "* Delete: Remove Alice from the `student_grades`.\n",
    "\n",
    "#### Part B: Using Conditionals\n",
    "\n",
    "* Check if \"David\" is in `student_grades`. If not, add \"David\": 88 to the dictionary.\n",
    "* Create a function called `is_student_present` that takes in the dictionary and the name of the student and returns\n",
    "`True` if the student is in the dictionary and `False` otherwise.\n",
    "\n",
    "#### Part C: Using Loops\n",
    "\n",
    "* Print each student's name and grade in the format - \"<student_name>'s grade is <student_grade>\". For example, Alice's grade which is 85 should be printed as \"Alice's grade is 85\".\n",
    "\n",
    "#### Part D: Using Loops and Conditionals\n",
    "\n",
    "* For each student, print \"Pass\" if their grade is 80 or above, else print \"Fail\"."
   ]
  },
  {
   "cell_type": "markdown",
   "metadata": {},
   "source": [
    "## Mixed Data Structures\n",
    "\n",
    "This section tries to include multiple data structures for one task.\n",
    "\n",
    "You're building a simple e-commerce order processing system.\n",
    "\n",
    "#### Part A: Simple Operations\n",
    "* Create:\n",
    "\n",
    "    * List: Initialize `order_items` with product IDs: 1001, 1002, 1003.\n",
    "    * Set: Create `processed_orders` as an empty set.\n",
    "    * Tuple: Define `order_details` as (5001, 'John Doe', 'Pending'), representing order ID, customer name, and status.\n",
    "    * Dictionary: Initialize `product_inventory` with product IDs as keys and quantities as values: {1001: 50, 1002: 60, 1003: 0}.\n",
    "* Read: Print the order status from order_details. The format should be `ID: <order ID>, Name: <name>, Status: <status>`. Example `ID: 5001, Name: John Doe, Status: Pending`. \n",
    "* Update: Change the status in `order_details` to 'Processing' by creating a new tuple.\n",
    "* Delete: Remove 1003 from `order_items` because it's out of stock.\n",
    "\n",
    "#### Part B: Using Conditionals\n",
    "\n",
    "* Before processing each item in `order_items`, check if it's in the stock (`quantity` > 0 in `product_inventory`). If not, print a message and skip it.\n",
    "\n",
    "#### Part C: Using Loops\n",
    "\n",
    "* Process each item in `order_items`:\n",
    "    * Deduct 1 from the corresponding quantity in `product_inventory`.\n",
    "    * Add the item to `processed_orders`.\n",
    "\n",
    "#### Part D: Using Loops and Conditionals\n",
    "\n",
    "* After processing, check `product_inventory`:\n",
    "If any product has a `quantity` less than 10, print a restock alert for that product ID."
   ]
  }
 ],
 "metadata": {
  "language_info": {
   "name": "python"
  }
 },
 "nbformat": 4,
 "nbformat_minor": 2
}
