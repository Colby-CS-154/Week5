{
 "cells": [
  {
   "cell_type": "markdown",
   "metadata": {},
   "source": [
    "## REVIEW\n",
    "\n",
    "* How to write a function to print hello world?\n",
    "* How to write a function that prints the user's name?\n",
    "* How to write a function that prints the largest item in the list?"
   ]
  },
  {
   "cell_type": "code",
   "execution_count": null,
   "metadata": {},
   "outputs": [],
   "source": [
    "# While this function is correct, I would change the name of the function\n",
    "# to `print_hello_world` or something similar.\n",
    "# Naming functions and variables is a very important task!\n",
    "def my_function():\n",
    "    print(\"Hello World\")\n",
    "\n",
    "\n",
    "my_function()"
   ]
  },
  {
   "cell_type": "code",
   "execution_count": null,
   "metadata": {},
   "outputs": [],
   "source": [
    "# Review #2 - Printing the name of a user\n",
    "# Note that the `user_name` on line 2 is different than the `user_name` inside the function\n",
    "user_name: str = input(\"What is your name?\")\n",
    "\n",
    "\n",
    "def print_user_name(user_name: str):\n",
    "    print(f\"Hello {user_name}\")\n",
    "\n",
    "\n",
    "some_other_name: str = \"Bruce\"\n",
    "print_user_name(some_other_name)"
   ]
  },
  {
   "cell_type": "code",
   "execution_count": null,
   "metadata": {},
   "outputs": [],
   "source": [
    "# Review #3 - Finding the largest item in the list\n",
    "\n",
    "# This is our list\n",
    "some_list: list[int] = [-10, -15, -24, -76, -19, -20]\n",
    "\n",
    "# Assume that the largest number is the first item in the list\n",
    "largest_number_in_list: int = some_list[0]\n",
    "\n",
    "# Go over each item in the list\n",
    "for items in some_list:\n",
    "    # If the item is larger than what we have, then we change it\n",
    "    if items > largest_number_in_list:\n",
    "        largest_number_in_list = items\n",
    "\n",
    "    # Otherwise we do nothing\n",
    "    else:\n",
    "        pass  # This keyword `pass` allows us do not thing\n",
    "print(largest_number_in_list)\n"
   ]
  },
  {
   "cell_type": "code",
   "execution_count": null,
   "metadata": {},
   "outputs": [],
   "source": [
    "# Let's write the above code into a function\n",
    "\n",
    "# We define a function with an appropriate name - `get_largest_num_in_list`\n",
    "# We define its parameters - `list_of_int` and its type annotation\n",
    "# We define its return type. Note that we do not need to have a name for the return type\n",
    "\n",
    "\n",
    "def get_largest_num_in_list(list_of_int: list[int]) -> int:\n",
    "    largest_number_in_list: int = list_of_int[0]\n",
    "\n",
    "    for items in list_of_int:\n",
    "        if items > largest_number_in_list:\n",
    "            largest_number_in_list = items\n",
    "\n",
    "    return largest_number_in_list\n",
    "\n",
    "\n",
    "largest_num: int = get_largest_num_in_list(some_list)\n",
    "print(largest_num)"
   ]
  },
  {
   "cell_type": "code",
   "execution_count": null,
   "metadata": {},
   "outputs": [],
   "source": [
    "some_list: list[int] = [1, 63467, 236, 345, 357, 234, 3246]\n",
    "\n",
    "print(f\"The largest number in `some_list` is : {get_largest_num_in_list(some_list)}\")"
   ]
  },
  {
   "cell_type": "markdown",
   "metadata": {},
   "source": [
    "## Situation\n",
    "\n",
    "Let's think about how to check the strength of a password?\n",
    "\n",
    "To check if a password is strong, we need to ensure that:\n",
    "\n",
    "1. It is longer than 8 characters\n",
    "2. It has lowercase letters\n",
    "3. It has uppercase letters\n",
    "4. It has special characters\n",
    "5. It has numbers"
   ]
  },
  {
   "cell_type": "code",
   "execution_count": null,
   "metadata": {},
   "outputs": [],
   "source": [
    "ord('z')"
   ]
  },
  {
   "cell_type": "code",
   "execution_count": null,
   "metadata": {},
   "outputs": [],
   "source": [
    "constant_value = 96\n",
    "for i in range(1, 27):\n",
    "    print(f\"i = {i}. Character: {chr(i+constant_value)}\")"
   ]
  },
  {
   "cell_type": "code",
   "execution_count": null,
   "metadata": {},
   "outputs": [],
   "source": [
    "# We can first define functions that check each of the above properties.\n",
    "# We call this skeleton of a function as the signature\n",
    "# The signature of a function describes the name of the function, the parameter it takes\n",
    "# and its return type\n",
    "\n",
    "# From the name of the function, we can guess that this functions tells if the\n",
    "# parameters `password` has lowercase letters or not.\n",
    "\n",
    "# For this function we can use `ord` function to get the ASCII value of a character.\n",
    "# For example ASCII value of `a` is 97 and that of `z` is 122. You can check that if at \n",
    "# least one character is between that range.\n",
    "def has_lowercase(password: str) -> bool:\n",
    "    lowercase = False           # Assume there is now lowercase letters\n",
    "\n",
    "    for each_char in password:\n",
    "        if (ord(each_char) >= 97) and (ord(each_char) <= 122):\n",
    "            lowercase = True\n",
    "        \n",
    "    return lowercase\n",
    "\n",
    "# Similarly, this function checks if `password` has uppercase letters or not\n",
    "def has_uppercase(password: str) -> bool:\n",
    "    pass\n",
    "\n",
    "\n",
    "\n",
    "\n",
    "# This checks if the `password` has special characters or not\n",
    "def has_special_characters(password: str) -> bool:\n",
    "    if not password.isalnum():\n",
    "        special_character = True\n",
    "    else:\n",
    "        print(\"Password must have special characters\")\n",
    "        special_character = False\n",
    "    \n",
    "    return special_character\n",
    "\n",
    "\n",
    "def has_numbers(password: str) -> bool:\n",
    "    pass\n",
    "\n",
    "\n",
    "def is_longer_than_eight(password: str) -> bool:\n",
    "    if len(password) > 8:\n",
    "        longer_than_eight: bool = True\n",
    "    else:\n",
    "        print(\"The password should be longer than eight characters\")\n",
    "        longer_than_eight: bool = False\n",
    "\n",
    "    return longer_than_eight\n",
    "\n",
    "\n",
    "# is_longer_than_eight(\"123456789\")\n"
   ]
  },
  {
   "cell_type": "code",
   "execution_count": 40,
   "metadata": {},
   "outputs": [],
   "source": [
    "# I have implemented the `is_it_strong_password` for you. Your task is to implement the\n",
    "# inner functions. \n",
    "def is_it_strong_password(password: str) -> bool:\n",
    "    special_characters: bool = has_special_characters(password)\n",
    "    longer_than_eight: bool = is_longer_than_eight(password)\n",
    "    lowercase: bool = has_lowercase(password)\n",
    "    uppercase: bool = has_uppercase(password)\n",
    "    numbers: bool = has_numbers(password)\n",
    "    if numbers and uppercase and lowercase and longer_than_eight and special_characters:\n",
    "        return True\n",
    "    else:\n",
    "        return False\n"
   ]
  },
  {
   "cell_type": "code",
   "execution_count": null,
   "metadata": {},
   "outputs": [],
   "source": [
    "# Test cases\n",
    "# Use the following string as test cases. Ensure apart from returning the correct value,\n",
    "# they also print what is missing from the string\n",
    "\n",
    "\"AbigailIsh12#\" # True\n",
    "\"Wierd12\" # False\n",
    "\"HowAre You Doing?\" # False\n",
    "\"1@mGoodAndYou?\" # True\n",
    "\"lowercaseletters\" # False\n",
    "\"UPPERCASELETTERS\" # False"
   ]
  }
 ],
 "metadata": {
  "kernelspec": {
   "display_name": "colby",
   "language": "python",
   "name": "python3"
  },
  "language_info": {
   "codemirror_mode": {
    "name": "ipython",
    "version": 3
   },
   "file_extension": ".py",
   "mimetype": "text/x-python",
   "name": "python",
   "nbconvert_exporter": "python",
   "pygments_lexer": "ipython3",
   "version": "3.11.9"
  }
 },
 "nbformat": 4,
 "nbformat_minor": 2
}
